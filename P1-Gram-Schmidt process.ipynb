{
 "cells": [
  {
   "cell_type": "markdown",
   "metadata": {},
   "source": [
    "# Gram-Schmidt process\n",
    "\n",
    "## Instructions\n",
    "In this assignment you will write a function to perform the Gram-Schmidt procedure, which takes a list of vectors and forms an orthonormal basis from this set.\n",
    "As a corollary, the procedure allows us to determine the dimension of the space spanned by the basis vectors, which is equal to or less than the space which the vectors sit.\n",
    "\n",
    "### Matrices in Python\n",
    "Remember the structure for matrices in *numpy* is,\n",
    "```python\n",
    "A[0, 0]  A[0, 1]  A[0, 2]  A[0, 3]\n",
    "A[1, 0]  A[1, 1]  A[1, 2]  A[1, 3]\n",
    "A[2, 0]  A[2, 1]  A[2, 2]  A[2, 3]\n",
    "A[3, 0]  A[3, 1]  A[3, 2]  A[3, 3]\n",
    "```\n",
    "You can access the value of each element individually using,\n",
    "```python\n",
    "A[n, m]\n",
    "```\n",
    "You can also access a whole row at a time using,\n",
    "```python\n",
    "A[n]\n",
    "```\n",
    "\n",
    "Building on last assignment, in this exercise you will need to select whole columns at a time.\n",
    "This can be done with,\n",
    "```python\n",
    "A[:, m]\n",
    "```\n",
    "which will select the m'th column (starting at zero).\n",
    "\n",
    "In this exercise, you will need to take the dot product between vectors. This can be done using the @ operator.\n",
    "To dot product vectors u and v, use the code,\n",
    "```python\n",
    "u @ v\n",
    "```"
   ]
  },
  {
   "cell_type": "code",
   "execution_count": 1,
   "metadata": {},
   "outputs": [],
   "source": [
    "import numpy as np\n",
    "from numpy import linalg as LA\n",
    "\n",
    "epsilon = 10e-5"
   ]
  },
  {
   "cell_type": "markdown",
   "metadata": {},
   "source": [
    "## Gram-Schmidt formulation\n",
    "\n",
    "Given a basis $\\{ v_1, \\ldots, v_m\\}$ of a subspace $S \\subset R^n$, the Gram-Schmidt process\n",
    "constructs an orthonormal basis $\\{ q_1, \\ldots, q_m\\}$\n",
    "\n",
    "More precisely, for $k = 1, \\ldots, m$ the Gram-Schmidt process successively computes  an orthonormal \n",
    "basis $\\{ q_1, \\ldots, q_k\\}$ from $\\{ v_1, \\ldots, v_k\\}$ such that both bases span the same subspace.\n",
    "The idea is to use orthogonal projection to remove components along the existing basis vectors, \n",
    "leaving an orthogonal set.\n",
    "\n",
    "$q_1 = \\frac{a_1}{\\lVert{a_1}\\rVert}$\n",
    "\n",
    "$\\hat{q_2} = a_2 - (q_1^T a_2)q_1\\qquad \\Rightarrow \\qquad q_2 = \\frac{\\hat{q_2}}{\\lVert{\\hat{q_2}}\\rVert}$\n",
    "\n",
    "$\\hat{q_k} = a_k - (q_1^T a_k)q_1 - ... - (q_{k-1}^T a_k)q_{k-1}\\qquad \\Rightarrow \\qquad q_k = \\frac{\\hat{q_k}}{\\lVert{\\hat{q_2}}\\rVert}$\n"
   ]
  },
  {
   "cell_type": "markdown",
   "metadata": {},
   "source": [
    "Please compute $\\hat{q_{i}}$ in the functions `q_hat_calculate` below where `i` is the `index` variable:"
   ]
  },
  {
   "cell_type": "code",
   "execution_count": 2,
   "metadata": {},
   "outputs": [],
   "source": [
    "def q_hat_calculate(index, vector, vectors):\n",
    "    \"\"\"\n",
    "    :param index: the i that we want to calculate q_hat for\n",
    "    :param vector: the ith vector that we want to calculate q_hat for\n",
    "    :param vectors: the previous q's that we calculated\n",
    "    :return: q hat vector\n",
    "    \"\"\"\n",
    "    # YOUR CODE HERE\n",
    "    vector = np.array(vector)\n",
    "    vectors = np.array(vectors)\n",
    "    q_hat = vector\n",
    "    \n",
    "    for i in range(index-1):\n",
    "        q_hat = q_hat - vector@vectors[i] * vectors[i]\n",
    "    return q_hat\n",
    "    \n",
    "                     \n",
    "    \n",
    "    #raise NotImplementedError"
   ]
  },
  {
   "cell_type": "markdown",
   "metadata": {},
   "source": [
    "an example on  `q_hat_calculate`"
   ]
  },
  {
   "cell_type": "code",
   "execution_count": 3,
   "metadata": {},
   "outputs": [
    {
     "name": "stdout",
     "output_type": "stream",
     "text": [
      "[0 0 3]\n"
     ]
    },
    {
     "data": {
      "text/plain": [
       "3.0"
      ]
     },
     "execution_count": 3,
     "metadata": {},
     "output_type": "execute_result"
    }
   ],
   "source": [
    "test3 = q_hat_calculate(3, [3, 2, 3], [[1, 0, 0], [0, 1, 0]])\n",
    "print(test3)\n",
    "LA.norm(test3)"
   ]
  },
  {
   "cell_type": "markdown",
   "metadata": {},
   "source": [
    "Please fill in the functions `gram_schmidt_algorithm` below:"
   ]
  },
  {
   "cell_type": "code",
   "execution_count": 4,
   "metadata": {},
   "outputs": [],
   "source": [
    "def gram_schmidt_algorithm(vectors, debug=False):\n",
    "    \n",
    "    vectors = np.array(vectors, dtype='float32')\n",
    "    dependent_vectors_index = []  # the index of vectors that are dependent\n",
    "    orthonormal_basis = np.zeros(shape=vectors.shape, dtype='float32').T\n",
    "    \n",
    "    column_count = 0 # count the indepentent vectors of matrix `vectors`\n",
    "    dependent_vector_count = 0\n",
    "    \n",
    "    for index, column in enumerate(vectors.T):\n",
    "        # YOUR CODE HERE\n",
    "        # Compute Gram-Schmidt algorithm\n",
    "       \n",
    "        if index == 0:\n",
    "            orthonormal_basis[index] = column / LA.norm(column)\n",
    "            column_count += 1\n",
    "            continue\n",
    "        q_hat = q_hat_calculate(index+1, column, orthonormal_basis)\n",
    "        if LA.norm(q_hat) < epsilon:\n",
    "            dependent_vectors_index.append(index)\n",
    "            dependent_vector_count += 1\n",
    "            # orthonormal_basis[index] = q_hat\n",
    "            continue\n",
    "        normalized_q_hat = q_hat / LA.norm(q_hat)\n",
    "        orthonormal_basis[index] = normalized_q_hat\n",
    "        column_count += 1\n",
    "        \n",
    "    \n",
    "    if debug is True:\n",
    "        print(f'the input vectors are:\\n{vectors}\\n')\n",
    "\n",
    "    if column_count == vectors.shape[1]:  # all vectors were independent\n",
    "        if debug is True:\n",
    "            print(f'the vectors were linearly independent and orthonormal basis:\\n{orthonormal_basis.T}')\n",
    "        return orthonormal_basis.T, None, None\n",
    "\n",
    "    if column_count < vectors.shape[1]:  # some vectors were dependent\n",
    "        # Delete `orthonormal_basis` columns that are 0 (not used)\n",
    "        # YOUR CODE HERE\n",
    "        final_orthonormal_basis = np.zeros((vectors.shape[0], column_count))\n",
    "        final_orthonormal_basis_index = 0\n",
    "        for column in orthonormal_basis:\n",
    "            if LA.norm(column) == 0:\n",
    "                continue\n",
    "            final_orthonormal_basis[final_orthonormal_basis_index] = column\n",
    "            final_orthonormal_basis_index += 1\n",
    "        \n",
    "        \n",
    "        #raise NotImplementedError\n",
    "        \n",
    "        \n",
    "        # Find the coefficients of dependent vectors and store it in `dependent_combination` matrix\n",
    "        # colomn i of `dependent_combination` is the coaficients of the the i'th dependent vector\n",
    "        # you can use `dependent_vectors_index` for knowing which vectors are dependent\n",
    "        # YOUR CODE HERE\n",
    "        dependent_combination = np.zeros((dependent_vector_count, vectors.shape[0]))\n",
    "        dependent_combination_index = 0\n",
    "        for j in dependent_vectors_index:\n",
    "            dependent_combination[dependent_combination_index] = vectors.T[j]\n",
    "            \n",
    "        \n",
    "        dependent_combination = dependent_combination.T\n",
    "        #raise NotImplementedError\n",
    "        \n",
    "        orthonormal_basis = final_orthonormal_basis\n",
    "        if debug is True:\n",
    "            print(f'the vectors were linearly dependent and the orthonormal basis is:\\n{orthonormal_basis}')\n",
    "            print(f'\\nthe index of dependent vectors are: {dependent_vectors_index}')\n",
    "            print(f'\\ncoefficients are:\\n{dependent_combination}')\n",
    "        \n",
    "        return orthonormal_basis, dependent_vectors_index, dependent_combination"
   ]
  },
  {
   "cell_type": "markdown",
   "metadata": {},
   "source": [
    "# Test GS"
   ]
  },
  {
   "cell_type": "markdown",
   "metadata": {},
   "source": [
    "An extra example on GS"
   ]
  },
  {
   "cell_type": "code",
   "execution_count": 5,
   "metadata": {},
   "outputs": [
    {
     "name": "stdout",
     "output_type": "stream",
     "text": [
      "the input vectors are:\n",
      "[[1. 0.]\n",
      " [0. 1.]\n",
      " [0. 0.]]\n",
      "\n",
      "the vectors were linearly independent and orthonormal basis:\n",
      "[[1. 0.]\n",
      " [0. 1.]\n",
      " [0. 0.]]\n"
     ]
    },
    {
     "data": {
      "text/plain": [
       "(array([[1., 0.],\n",
       "        [0., 1.],\n",
       "        [0., 0.]], dtype=float32),\n",
       " None,\n",
       " None)"
      ]
     },
     "execution_count": 5,
     "metadata": {},
     "output_type": "execute_result"
    }
   ],
   "source": [
    "gram_schmidt_algorithm([[1, 0],\n",
    "                       [0,  1],\n",
    "                       [ 0,  0]], True)"
   ]
  },
  {
   "cell_type": "code",
   "execution_count": 6,
   "metadata": {},
   "outputs": [
    {
     "name": "stdout",
     "output_type": "stream",
     "text": [
      "the input vectors are:\n",
      "[[1. 0. 0.]\n",
      " [0. 1. 0.]\n",
      " [0. 0. 1.]]\n",
      "\n",
      "the vectors were linearly independent and orthonormal basis:\n",
      "[[1. 0. 0.]\n",
      " [0. 1. 0.]\n",
      " [0. 0. 1.]]\n"
     ]
    },
    {
     "data": {
      "text/plain": [
       "(array([[1., 0., 0.],\n",
       "        [0., 1., 0.],\n",
       "        [0., 0., 1.]], dtype=float32),\n",
       " None,\n",
       " None)"
      ]
     },
     "execution_count": 6,
     "metadata": {},
     "output_type": "execute_result"
    }
   ],
   "source": [
    "# Test1: independent vectors\n",
    "gram_schmidt_algorithm([[1, 0, 0],\n",
    "                       [0,  1,  0],\n",
    "                       [ 0,  0,  1]], True)"
   ]
  },
  {
   "cell_type": "raw",
   "metadata": {},
   "source": [
    "Expected out:\n",
    "the input vectors are:\n",
    "[[1. 0. 0.]\n",
    " [0. 1. 0.]\n",
    " [0. 0. 1.]]\n",
    "\n",
    "the vectors were linearly independent and orthonormal basis:\n",
    "[[1. 0. 0.]\n",
    " [0. 1. 0.]\n",
    " [0. 0. 1.]]"
   ]
  },
  {
   "cell_type": "code",
   "execution_count": 7,
   "metadata": {},
   "outputs": [
    {
     "name": "stdout",
     "output_type": "stream",
     "text": [
      "the input vectors are:\n",
      "[[1. 0. 0. 2.]\n",
      " [0. 1. 0. 0.]\n",
      " [0. 0. 1. 0.]]\n",
      "\n",
      "the vectors were linearly dependent and the orthonormal basis is:\n",
      "[[1. 0. 0.]\n",
      " [0. 1. 0.]\n",
      " [0. 0. 1.]]\n",
      "\n",
      "the index of dependent vectors are: [3]\n",
      "\n",
      "coefficients are:\n",
      "[[2.]\n",
      " [0.]\n",
      " [0.]]\n"
     ]
    },
    {
     "data": {
      "text/plain": [
       "(array([[1., 0., 0.],\n",
       "        [0., 1., 0.],\n",
       "        [0., 0., 1.]]),\n",
       " [3],\n",
       " array([[2.],\n",
       "        [0.],\n",
       "        [0.]]))"
      ]
     },
     "execution_count": 7,
     "metadata": {},
     "output_type": "execute_result"
    }
   ],
   "source": [
    "# Test2: dependent vectors\n",
    "gram_schmidt_algorithm([[1, 0, 0, 2],\n",
    "                       [0, 1, 0, 0],\n",
    "                       [ 0, 0, 1, 0]], True)"
   ]
  },
  {
   "cell_type": "raw",
   "metadata": {},
   "source": [
    "Expected out:\n",
    "the input vectors are:\n",
    "[[1. 0. 0. 2.]\n",
    " [0. 1. 0. 0.]\n",
    " [0. 0. 1. 0.]]\n",
    "\n",
    "the vectors were linearly dependent and the orthonormal basis is:\n",
    "[[1. 0. 0.]\n",
    " [0. 1. 0.]\n",
    " [0. 0. 1.]]\n",
    "\n",
    "the index of dependent vectors are: [3]\n",
    "\n",
    "coefficients are:\n",
    "[[2.]\n",
    " [0.]\n",
    " [0.]]"
   ]
  },
  {
   "cell_type": "code",
   "execution_count": 8,
   "metadata": {},
   "outputs": [
    {
     "name": "stdout",
     "output_type": "stream",
     "text": [
      "the input vectors are:\n",
      "[[-1.  0.  0.]\n",
      " [-1.  0.  1.]\n",
      " [ 2.  3.  4.]]\n",
      "\n",
      "the vectors were linearly independent and orthonormal basis:\n",
      "[[-4.0824828e-01  5.7735020e-01 -7.0710701e-01]\n",
      " [-4.0824828e-01  5.7735020e-01  7.0710653e-01]\n",
      " [ 8.1649655e-01  5.7735044e-01 -1.0115244e-06]]\n"
     ]
    },
    {
     "data": {
      "text/plain": [
       "(array([[-4.0824828e-01,  5.7735020e-01, -7.0710701e-01],\n",
       "        [-4.0824828e-01,  5.7735020e-01,  7.0710653e-01],\n",
       "        [ 8.1649655e-01,  5.7735044e-01, -1.0115244e-06]], dtype=float32),\n",
       " None,\n",
       " None)"
      ]
     },
     "execution_count": 8,
     "metadata": {},
     "output_type": "execute_result"
    }
   ],
   "source": [
    "# Test3: \n",
    "gram_schmidt_algorithm([[-1, -0, -0],\n",
    "       [-1,  0,  1],\n",
    "       [ 2,  3,  4]], True)"
   ]
  },
  {
   "cell_type": "raw",
   "metadata": {},
   "source": [
    "Expected out:\n",
    "the input vectors are:\n",
    "[[-1.  0.  0.]\n",
    " [-1.  0.  1.]\n",
    " [ 2.  3.  4.]]\n",
    "\n",
    "the vectors were linearly independent and orthonormal basis:\n",
    "[[-4.0824828e-01  5.7735020e-01 -7.0710695e-01]\n",
    " [-4.0824828e-01  5.7735020e-01  7.0710665e-01]\n",
    " [ 8.1649655e-01  5.7735044e-01 -1.3486991e-06]]"
   ]
  }
 ],
 "metadata": {
  "kernelspec": {
   "display_name": "Python 3",
   "language": "python",
   "name": "python3"
  },
  "language_info": {
   "codemirror_mode": {
    "name": "ipython",
    "version": 3
   },
   "file_extension": ".py",
   "mimetype": "text/x-python",
   "name": "python",
   "nbconvert_exporter": "python",
   "pygments_lexer": "ipython3",
   "version": "3.8.5"
  }
 },
 "nbformat": 4,
 "nbformat_minor": 4
}
